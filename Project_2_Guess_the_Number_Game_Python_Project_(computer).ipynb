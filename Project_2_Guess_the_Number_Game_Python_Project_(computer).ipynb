{
  "nbformat": 4,
  "nbformat_minor": 0,
  "metadata": {
    "colab": {
      "provenance": [],
      "authorship_tag": "ABX9TyOn+rk8JuXQXKi8oAav4kNX",
      "include_colab_link": true
    },
    "kernelspec": {
      "name": "python3",
      "display_name": "Python 3"
    },
    "language_info": {
      "name": "python"
    }
  },
  "cells": [
    {
      "cell_type": "markdown",
      "metadata": {
        "id": "view-in-github",
        "colab_type": "text"
      },
      "source": [
        "<a href=\"https://colab.research.google.com/github/muhammad1abbasi/Project-2-Guess-the-Number-Game-Python-Project-computer-/blob/main/Project_2_Guess_the_Number_Game_Python_Project_(computer).ipynb\" target=\"_parent\"><img src=\"https://colab.research.google.com/assets/colab-badge.svg\" alt=\"Open In Colab\"/></a>"
      ]
    },
    {
      "cell_type": "markdown",
      "source": [
        "Project 2: Guess the Number Game Python Project (computer)"
      ],
      "metadata": {
        "id": "IbpFNRQxLJvt"
      }
    },
    {
      "cell_type": "code",
      "execution_count": 6,
      "metadata": {
        "colab": {
          "base_uri": "https://localhost:8080/"
        },
        "id": "fan9UI_RLCxw",
        "outputId": "66b7bf5d-2984-4a34-c5b2-b2c31508ff24"
      },
      "outputs": [
        {
          "output_type": "stream",
          "name": "stdout",
          "text": [
            "Welcome to the Guess the Number Game!\n",
            "Guess a number between 1 and 100:3\n",
            "Too high! Try again.\n",
            "Guess a number between 1 and 100:2\n",
            "Too high! Try again.\n",
            "Guess a number between 1 and 100:1\n",
            "Congratulations! you guessed the number in 3 attempts.\n"
          ]
        }
      ],
      "source": [
        "import random\n",
        "\n",
        "def main():\n",
        "  print(\"Welcome to the Guess the Number Game!\")\n",
        "  secret_number = random.randint(1, 10)\n",
        "  attempts = 0\n",
        "\n",
        "  while True:\n",
        "    try:\n",
        "      guess = int(input(\"Guess a number between 1 and 100:\"))\n",
        "      attempts += 1\n",
        "\n",
        "      if guess < secret_number:\n",
        "        print(\"Too low! Try again.\")\n",
        "      elif guess > secret_number:\n",
        "        print(\"Too high! Try again.\")\n",
        "      else:\n",
        "        print(f\"Congratulations! you guessed the number in {attempts} attempts.\")\n",
        "        break\n",
        "    except ValueError:\n",
        "      print(\"Please enter a valid number.\")\n",
        "if __name__ == \"__main__\":\n",
        "  main()"
      ]
    }
  ]
}